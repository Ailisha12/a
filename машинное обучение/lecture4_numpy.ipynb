{
 "cells": [
  {
   "cell_type": "code",
   "execution_count": 1,
   "metadata": {},
   "outputs": [],
   "source": [
    "import numpy as np\n",
    "import pandas as pd"
   ]
  },
  {
   "cell_type": "markdown",
   "metadata": {},
   "source": [
    "# Лекция 4. Numpy"
   ]
  },
  {
   "cell_type": "code",
   "execution_count": 2,
   "metadata": {},
   "outputs": [
    {
     "data": {
      "text/html": [
       "<div>\n",
       "<style scoped>\n",
       "    .dataframe tbody tr th:only-of-type {\n",
       "        vertical-align: middle;\n",
       "    }\n",
       "\n",
       "    .dataframe tbody tr th {\n",
       "        vertical-align: top;\n",
       "    }\n",
       "\n",
       "    .dataframe thead th {\n",
       "        text-align: right;\n",
       "    }\n",
       "</style>\n",
       "<table border=\"1\" class=\"dataframe\">\n",
       "  <thead>\n",
       "    <tr style=\"text-align: right;\">\n",
       "      <th></th>\n",
       "      <th>Unnamed: 0</th>\n",
       "      <th>title</th>\n",
       "      <th>release</th>\n",
       "      <th>runtime</th>\n",
       "      <th>budget</th>\n",
       "      <th>revenue</th>\n",
       "      <th>lang</th>\n",
       "      <th>genre1</th>\n",
       "      <th>genre2</th>\n",
       "      <th>country1</th>\n",
       "      <th>...</th>\n",
       "      <th>writer</th>\n",
       "      <th>studio1</th>\n",
       "      <th>studio2</th>\n",
       "      <th>keyword1</th>\n",
       "      <th>keyword2</th>\n",
       "      <th>keyword3</th>\n",
       "      <th>keyword4</th>\n",
       "      <th>keyword5</th>\n",
       "      <th>keyword6</th>\n",
       "      <th>rating</th>\n",
       "    </tr>\n",
       "  </thead>\n",
       "  <tbody>\n",
       "    <tr>\n",
       "      <th>0</th>\n",
       "      <td>7495</td>\n",
       "      <td>Пираты Карибского моря: На странных берегах</td>\n",
       "      <td>2011-05-14 00:00:00</td>\n",
       "      <td>136.0</td>\n",
       "      <td>380000000.0</td>\n",
       "      <td>1.045714e+09</td>\n",
       "      <td>en</td>\n",
       "      <td>приключения</td>\n",
       "      <td>боевик</td>\n",
       "      <td>GB</td>\n",
       "      <td>...</td>\n",
       "      <td>NaN</td>\n",
       "      <td>Walt Disney Pictures</td>\n",
       "      <td>Jerry Bruckheimer Films</td>\n",
       "      <td>england</td>\n",
       "      <td>spain</td>\n",
       "      <td>sea</td>\n",
       "      <td>captain</td>\n",
       "      <td>mutiny</td>\n",
       "      <td>sword</td>\n",
       "      <td>6.500000</td>\n",
       "    </tr>\n",
       "    <tr>\n",
       "      <th>1</th>\n",
       "      <td>6783</td>\n",
       "      <td>Мстители: Финал</td>\n",
       "      <td>2019-04-24 00:00:00</td>\n",
       "      <td>182.0</td>\n",
       "      <td>356000000.0</td>\n",
       "      <td>2.797801e+09</td>\n",
       "      <td>en</td>\n",
       "      <td>приключения</td>\n",
       "      <td>фантастика</td>\n",
       "      <td>US</td>\n",
       "      <td>...</td>\n",
       "      <td>Marvel Studios</td>\n",
       "      <td>NaN</td>\n",
       "      <td>space travel</td>\n",
       "      <td>time travel</td>\n",
       "      <td>time machine</td>\n",
       "      <td>sequel</td>\n",
       "      <td>based on comic</td>\n",
       "      <td>alien invasion</td>\n",
       "      <td>superhero team</td>\n",
       "      <td>7.873993</td>\n",
       "    </tr>\n",
       "    <tr>\n",
       "      <th>2</th>\n",
       "      <td>6308</td>\n",
       "      <td>Лига справедливости</td>\n",
       "      <td>43054</td>\n",
       "      <td>110.0</td>\n",
       "      <td>300000000.0</td>\n",
       "      <td>6.579243e+08</td>\n",
       "      <td>en</td>\n",
       "      <td>боевик</td>\n",
       "      <td>приключения</td>\n",
       "      <td>GB</td>\n",
       "      <td>...</td>\n",
       "      <td>Chris Terrio</td>\n",
       "      <td>DC Comics</td>\n",
       "      <td>DC Entertainment</td>\n",
       "      <td>dc comics</td>\n",
       "      <td>superhero</td>\n",
       "      <td>based on comic</td>\n",
       "      <td>super power</td>\n",
       "      <td>superhero team</td>\n",
       "      <td>aftercreditsstinger</td>\n",
       "      <td>6.307256</td>\n",
       "    </tr>\n",
       "    <tr>\n",
       "      <th>3</th>\n",
       "      <td>6781</td>\n",
       "      <td>Мстители: Война бесконечности</td>\n",
       "      <td>2018-04-25 00:00:00</td>\n",
       "      <td>149.0</td>\n",
       "      <td>300000000.0</td>\n",
       "      <td>2.046240e+09</td>\n",
       "      <td>en</td>\n",
       "      <td>приключения</td>\n",
       "      <td>боевик</td>\n",
       "      <td>US</td>\n",
       "      <td>...</td>\n",
       "      <td>Marvel Studios</td>\n",
       "      <td>NaN</td>\n",
       "      <td>magic</td>\n",
       "      <td>sacrifice</td>\n",
       "      <td>superhero</td>\n",
       "      <td>based on comic</td>\n",
       "      <td>space</td>\n",
       "      <td>battlefield</td>\n",
       "      <td>genocide</td>\n",
       "      <td>7.963608</td>\n",
       "    </tr>\n",
       "    <tr>\n",
       "      <th>4</th>\n",
       "      <td>7494</td>\n",
       "      <td>Пираты Карибского моря: На краю света</td>\n",
       "      <td>39221</td>\n",
       "      <td>169.0</td>\n",
       "      <td>300000000.0</td>\n",
       "      <td>9.610000e+08</td>\n",
       "      <td>en</td>\n",
       "      <td>приключения</td>\n",
       "      <td>фэнтези</td>\n",
       "      <td>US</td>\n",
       "      <td>...</td>\n",
       "      <td>Jerry Bruckheimer Films</td>\n",
       "      <td>Second Mate Productions</td>\n",
       "      <td>exotic island</td>\n",
       "      <td>east india company</td>\n",
       "      <td>love of one's life</td>\n",
       "      <td>traitor</td>\n",
       "      <td>shipwreck</td>\n",
       "      <td>strong woman</td>\n",
       "      <td>singapore</td>\n",
       "      <td>7.200000</td>\n",
       "    </tr>\n",
       "  </tbody>\n",
       "</table>\n",
       "<p>5 rows × 27 columns</p>\n",
       "</div>"
      ],
      "text/plain": [
       "   Unnamed: 0                                        title  \\\n",
       "0        7495  Пираты Карибского моря: На странных берегах   \n",
       "1        6783                              Мстители: Финал   \n",
       "2        6308                          Лига справедливости   \n",
       "3        6781                Мстители: Война бесконечности   \n",
       "4        7494        Пираты Карибского моря: На краю света   \n",
       "\n",
       "               release  runtime       budget       revenue lang       genre1  \\\n",
       "0  2011-05-14 00:00:00    136.0  380000000.0  1.045714e+09   en  приключения   \n",
       "1  2019-04-24 00:00:00    182.0  356000000.0  2.797801e+09   en  приключения   \n",
       "2                43054    110.0  300000000.0  6.579243e+08   en       боевик   \n",
       "3  2018-04-25 00:00:00    149.0  300000000.0  2.046240e+09   en  приключения   \n",
       "4                39221    169.0  300000000.0  9.610000e+08   en  приключения   \n",
       "\n",
       "        genre2 country1  ...                   writer  \\\n",
       "0       боевик       GB  ...                      NaN   \n",
       "1   фантастика       US  ...           Marvel Studios   \n",
       "2  приключения       GB  ...             Chris Terrio   \n",
       "3       боевик       US  ...           Marvel Studios   \n",
       "4      фэнтези       US  ...  Jerry Bruckheimer Films   \n",
       "\n",
       "                   studio1                  studio2            keyword1  \\\n",
       "0     Walt Disney Pictures  Jerry Bruckheimer Films             england   \n",
       "1                      NaN             space travel         time travel   \n",
       "2                DC Comics         DC Entertainment           dc comics   \n",
       "3                      NaN                    magic           sacrifice   \n",
       "4  Second Mate Productions            exotic island  east india company   \n",
       "\n",
       "             keyword2        keyword3        keyword4        keyword5  \\\n",
       "0               spain             sea         captain          mutiny   \n",
       "1        time machine          sequel  based on comic  alien invasion   \n",
       "2           superhero  based on comic     super power  superhero team   \n",
       "3           superhero  based on comic           space     battlefield   \n",
       "4  love of one's life         traitor       shipwreck    strong woman   \n",
       "\n",
       "              keyword6    rating  \n",
       "0                sword  6.500000  \n",
       "1       superhero team  7.873993  \n",
       "2  aftercreditsstinger  6.307256  \n",
       "3             genocide  7.963608  \n",
       "4            singapore  7.200000  \n",
       "\n",
       "[5 rows x 27 columns]"
      ]
     },
     "execution_count": 2,
     "metadata": {},
     "output_type": "execute_result"
    }
   ],
   "source": [
    "df=pd.read_excel('moviedb.xlsx')\n",
    "df.head()"
   ]
  },
  {
   "cell_type": "markdown",
   "metadata": {},
   "source": [
    "## Numpy - библиотека для работы с массивами"
   ]
  },
  {
   "cell_type": "code",
   "execution_count": 6,
   "metadata": {},
   "outputs": [
    {
     "name": "stdout",
     "output_type": "stream",
     "text": [
      "[1 2 3 4 5 6]\n"
     ]
    }
   ],
   "source": [
    "a = np.array([1,2,3,4,5,6])\n",
    "print(a)"
   ]
  },
  {
   "cell_type": "code",
   "execution_count": 74,
   "metadata": {},
   "outputs": [
    {
     "name": "stdout",
     "output_type": "stream",
     "text": [
      "<class 'list'>\n",
      "4119000\n"
     ]
    }
   ],
   "source": [
    "# список продолжительность фильма\n",
    "budget = list(df['budget'].dropna().values)*1000\n",
    "print(type(budget))\n",
    "print(len(budget))"
   ]
  },
  {
   "cell_type": "code",
   "execution_count": 76,
   "metadata": {},
   "outputs": [
    {
     "name": "stdout",
     "output_type": "stream",
     "text": [
      "<class 'numpy.ndarray'>\n",
      "(4119000,)\n"
     ]
    }
   ],
   "source": [
    "budget_np = np.array(budget)\n",
    "print(type(budget_np))\n",
    "print(budget_np.shape)"
   ]
  },
  {
   "cell_type": "code",
   "execution_count": 94,
   "metadata": {},
   "outputs": [
    {
     "name": "stdout",
     "output_type": "stream",
     "text": [
      "244 ms ± 7.82 ms per loop (mean ± std. dev. of 7 runs, 1 loop each)\n"
     ]
    }
   ],
   "source": [
    "%%timeit\n",
    "sum(budget)/len(budget)"
   ]
  },
  {
   "cell_type": "code",
   "execution_count": 93,
   "metadata": {},
   "outputs": [
    {
     "name": "stdout",
     "output_type": "stream",
     "text": [
      "6.26 ms ± 119 µs per loop (mean ± std. dev. of 7 runs, 100 loops each)\n"
     ]
    }
   ],
   "source": [
    "%%timeit\n",
    "budget_np.mean()"
   ]
  },
  {
   "cell_type": "code",
   "execution_count": 104,
   "metadata": {},
   "outputs": [],
   "source": [
    "a = np.array([1, 2, 3, 4, 5])\n",
    "b = np.array([1.5, 2.6, 3.1, 4.8, 5.1], dtype=float)"
   ]
  },
  {
   "cell_type": "code",
   "execution_count": 96,
   "metadata": {},
   "outputs": [
    {
     "name": "stdout",
     "output_type": "stream",
     "text": [
      "[10 12 14 16 18]\n"
     ]
    }
   ],
   "source": [
    "c = np.arange(start=10, stop=20, step=2) \n",
    "print(c)"
   ]
  },
  {
   "cell_type": "code",
   "execution_count": 99,
   "metadata": {},
   "outputs": [
    {
     "name": "stdout",
     "output_type": "stream",
     "text": [
      "[1 2 3 4 5]\n",
      "[1.5 2.6 3.1 4.8 5. ]\n",
      "[ 2.5  4.6  6.1  8.8 10. ]\n",
      "[-0.5 -0.6 -0.1 -0.8  0. ]\n",
      "[ 1.5  5.2  9.3 19.2 25. ]\n"
     ]
    }
   ],
   "source": [
    "print(a)\n",
    "print(b)\n",
    "print(a + b) #сумма\n",
    "print(a - b) #разность\n",
    "print(a*b) #перемножение"
   ]
  },
  {
   "cell_type": "code",
   "execution_count": 105,
   "metadata": {},
   "outputs": [
    {
     "name": "stdout",
     "output_type": "stream",
     "text": [
      "Расстояние между векторами a и b: 2.0999999999999996\n"
     ]
    }
   ],
   "source": [
    "from numpy.linalg import norm\n",
    "print('Расстояние между векторами a и b: {norm}'.format(norm = norm(a-b, ord=1)))"
   ]
  },
  {
   "cell_type": "code",
   "execution_count": 106,
   "metadata": {},
   "outputs": [
    {
     "name": "stdout",
     "output_type": "stream",
     "text": [
      "Скалярное произведение a and b: 60.7\n",
      "Скалярное произведение a and b: 60.7\n"
     ]
    }
   ],
   "source": [
    "print('Скалярное произведение a and b: {}'.format(np.dot(a, b)))\n",
    "print('Скалярное произведение a and b: {}'.format(a.dot(b)))"
   ]
  },
  {
   "cell_type": "markdown",
   "metadata": {},
   "source": [
    "## Матрицы"
   ]
  },
  {
   "cell_type": "code",
   "execution_count": 107,
   "metadata": {},
   "outputs": [
    {
     "name": "stdout",
     "output_type": "stream",
     "text": [
      "[[1 2 3]\n",
      " [2 5 6]\n",
      " [6 7 4]]\n"
     ]
    }
   ],
   "source": [
    "a = np.array([[1, 2, 3], [2, 5, 6], [6, 7, 4]])\n",
    "print(a)"
   ]
  },
  {
   "cell_type": "code",
   "execution_count": 108,
   "metadata": {},
   "outputs": [
    {
     "name": "stdout",
     "output_type": "stream",
     "text": [
      "[[1. 0. 0. 0. 0.]\n",
      " [0. 1. 0. 0. 0.]\n",
      " [0. 0. 1. 0. 0.]\n",
      " [0. 0. 0. 1. 0.]\n",
      " [0. 0. 0. 0. 1.]]\n"
     ]
    }
   ],
   "source": [
    "b = np.eye(5)\n",
    "print(b)"
   ]
  },
  {
   "cell_type": "code",
   "execution_count": 109,
   "metadata": {},
   "outputs": [
    {
     "name": "stdout",
     "output_type": "stream",
     "text": [
      "[[1. 1. 1. 1. 1.]\n",
      " [1. 1. 1. 1. 1.]\n",
      " [1. 1. 1. 1. 1.]\n",
      " [1. 1. 1. 1. 1.]\n",
      " [1. 1. 1. 1. 1.]\n",
      " [1. 1. 1. 1. 1.]\n",
      " [1. 1. 1. 1. 1.]]\n"
     ]
    }
   ],
   "source": [
    "c = np.ones((7, 5))\n",
    "print(c)"
   ]
  },
  {
   "cell_type": "code",
   "execution_count": 110,
   "metadata": {},
   "outputs": [
    {
     "name": "stdout",
     "output_type": "stream",
     "text": [
      "[ 0  2  4  6  8 10 12 14 16 18 20 22]\n",
      "[[ 0  2  4  6]\n",
      " [ 8 10 12 14]\n",
      " [16 18 20 22]]\n"
     ]
    }
   ],
   "source": [
    "v = np.arange(0, 24, 2)\n",
    "print(v)\n",
    "d = v.reshape((3, 4))\n",
    "print(d)"
   ]
  },
  {
   "cell_type": "code",
   "execution_count": 111,
   "metadata": {},
   "outputs": [
    {
     "name": "stdout",
     "output_type": "stream",
     "text": [
      "[[ 0  2  4  6]\n",
      " [ 8 10 12 14]\n",
      " [16 18 20 22]]\n",
      "18\n",
      "[ 8 10 12 14]\n",
      "[ 6 14 22]\n"
     ]
    }
   ],
   "source": [
    "print(d)\n",
    "print(d[2, 1])\n",
    "print(d[1, :])\n",
    "print(d[:, 3])"
   ]
  },
  {
   "cell_type": "code",
   "execution_count": 112,
   "metadata": {},
   "outputs": [],
   "source": [
    "a = np.array([[1, 0], [0, 1]])\n",
    "b = np.array([[4, 1], [2, 2]])\n",
    "r1 = np.dot(a, b)\n",
    "r2 = a.dot(b)"
   ]
  },
  {
   "cell_type": "code",
   "execution_count": 113,
   "metadata": {},
   "outputs": [
    {
     "name": "stdout",
     "output_type": "stream",
     "text": [
      "Matrix a:\n",
      " [[1 0]\n",
      " [0 1]]\n",
      "Matrix b:\n",
      " [[4 1]\n",
      " [2 2]]\n",
      "Multiplication, 1 method:\n",
      " [[4 1]\n",
      " [2 2]]\n",
      "Multiplication, 2 method:\n",
      " [[4 1]\n",
      " [2 2]]\n"
     ]
    }
   ],
   "source": [
    "print('Matrix a:\\n', a)\n",
    "print('Matrix b:\\n', b)\n",
    "print('Multiplication, 1 method:\\n', r1)\n",
    "print('Multiplication, 2 method:\\n', r2)"
   ]
  },
  {
   "cell_type": "code",
   "execution_count": 114,
   "metadata": {},
   "outputs": [],
   "source": [
    "c = np.array([1, 2])\n",
    "r3 = b.dot(c)"
   ]
  },
  {
   "cell_type": "code",
   "execution_count": 115,
   "metadata": {},
   "outputs": [
    {
     "name": "stdout",
     "output_type": "stream",
     "text": [
      "Matrix a:\n",
      " [[1 0]\n",
      " [0 1]]\n",
      "Vector c:\n",
      " [1 2]\n",
      "Multiplication:\n",
      " [6 6]\n"
     ]
    }
   ],
   "source": [
    "print('Matrix a:\\n', a)\n",
    "print('Vector c:\\n', c)\n",
    "print('Multiplication:\\n', r3)"
   ]
  },
  {
   "cell_type": "code",
   "execution_count": 116,
   "metadata": {},
   "outputs": [],
   "source": [
    "a = np.array([[1, 2], [3, 4]])\n",
    "b = np.transpose(a)\n",
    "c = a.T"
   ]
  },
  {
   "cell_type": "code",
   "execution_count": 117,
   "metadata": {},
   "outputs": [
    {
     "name": "stdout",
     "output_type": "stream",
     "text": [
      "Matrix a:\n",
      " [[1 2]\n",
      " [3 4]]\n",
      "Transposed matrix:\n",
      " [[1 3]\n",
      " [2 4]]\n",
      "Transposed matrix:\n",
      " [[1 3]\n",
      " [2 4]]\n"
     ]
    }
   ],
   "source": [
    "print('Matrix a:\\n', a)\n",
    "print('Transposed matrix:\\n', b)\n",
    "print('Transposed matrix:\\n', c)"
   ]
  },
  {
   "cell_type": "code",
   "execution_count": 118,
   "metadata": {},
   "outputs": [],
   "source": [
    "a = np.array([[1, 2, 1], [1, 1, 4], [2, 3, 6]], dtype=np.float32)\n",
    "det = np.linalg.det(a)"
   ]
  },
  {
   "cell_type": "code",
   "execution_count": 119,
   "metadata": {},
   "outputs": [
    {
     "name": "stdout",
     "output_type": "stream",
     "text": [
      "Matrix a:\n",
      " [[1. 2. 1.]\n",
      " [1. 1. 4.]\n",
      " [2. 3. 6.]]\n",
      "Determinant of a:\n",
      " -1.0\n"
     ]
    }
   ],
   "source": [
    "print('Matrix a:\\n', a)\n",
    "print('Determinant of a:\\n', det)"
   ]
  },
  {
   "cell_type": "code",
   "execution_count": 120,
   "metadata": {},
   "outputs": [
    {
     "name": "stdout",
     "output_type": "stream",
     "text": [
      "Matrix a:\n",
      " [[1 2 3]\n",
      " [1 1 1]\n",
      " [2 2 2]]\n",
      "Rank of a:\n",
      " 2\n"
     ]
    }
   ],
   "source": [
    "a = np.array([[1, 2, 3], [1, 1, 1], [2, 2, 2]])\n",
    "r = np.linalg.matrix_rank(a)\n",
    "print('Matrix a:\\n', a)\n",
    "print('Rank of a:\\n', r)"
   ]
  },
  {
   "cell_type": "code",
   "execution_count": 121,
   "metadata": {},
   "outputs": [
    {
     "name": "stdout",
     "output_type": "stream",
     "text": [
      "True\n"
     ]
    }
   ],
   "source": [
    "a = np.array([1, 2, 3])\n",
    "b = np.array([1, 1, 1])\n",
    "c = np.array([2, 3, 5])\n",
    "m = np.array([a, b, c])\n",
    "\n",
    "print(np.linalg.matrix_rank(m) == m.shape[0])"
   ]
  },
  {
   "cell_type": "markdown",
   "metadata": {},
   "source": [
    "задача 1 - сводная таблица (строки - жанры, столбцы - топ 10 популярных студий, значения - средний рейтинг)"
   ]
  }
 ],
 "metadata": {
  "kernelspec": {
   "display_name": "Python 3.8.10 64-bit",
   "language": "python",
   "name": "python3"
  },
  "language_info": {
   "codemirror_mode": {
    "name": "ipython",
    "version": 3
   },
   "file_extension": ".py",
   "mimetype": "text/x-python",
   "name": "python",
   "nbconvert_exporter": "python",
   "pygments_lexer": "ipython3",
   "version": "3.8.10"
  },
  "orig_nbformat": 4,
  "vscode": {
   "interpreter": {
    "hash": "7b83dca1d8d267e413fa0d82cee3509ef5e2285408bbc3355f5500685f26fd44"
   }
  }
 },
 "nbformat": 4,
 "nbformat_minor": 2
}
